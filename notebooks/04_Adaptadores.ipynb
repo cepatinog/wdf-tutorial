{
 "cells": [
  {
   "cell_type": "markdown",
   "id": "374762ad",
   "metadata": {},
   "source": [
    "### ¿Qué es un adaptador en WDF?\n",
    "\n",
    "En los WDF, los **adaptadores** permiten conectar varios elementos (como resistores y capacitores) de forma que se cumplan las leyes de Kirchhoff y se mantenga la pasividad del sistema.\n",
    "\n",
    "Los dos adaptadores básicos son:\n",
    "- **Adaptador serie**: garantiza que la corriente sea la misma entre dos elementos conectados en serie.\n",
    "- **Adaptador paralelo**: garantiza que el voltaje sea el mismo entre dos elementos en paralelo.\n",
    "\n",
    "Estos adaptadores se basan en el concepto de **resistencia de puerto (Rp)** y la transformación de variables de voltaje/corriente a ondas incidentes/reflejadas.\n"
   ]
  },
  {
   "cell_type": "markdown",
   "id": "0b44ef89",
   "metadata": {},
   "source": [
    "### Fórmulas del adaptador serie\n",
    "\n",
    "Dado dos elementos con resistencias de puerto \\( R_1 \\) y \\( R_2 \\):\n",
    "\n",
    "- **Resistencia total**:\n",
    "\n",
    "$$\n",
    "R_p = R_1 + R_2\n",
    "$$\n",
    "\n",
    "- **Coeficiente de reflexión relativo**:\n",
    "\n",
    "$$\n",
    "\\beta = \\frac{R_1}{R_1 + R_2}\n",
    "$$\n",
    "\n",
    "- **Ondas reflejadas**:\n",
    "\n",
    "$$\n",
    "b_1 = a_2 + \\beta(a_1 - a_2), \\quad b_2 = a_1 + \\beta(a_2 - a_1)\n",
    "$$\n",
    "\n",
    "La implementación en `pywdf` de un adaptador serie se realiza con la clase `SeriesAdaptor`.\n",
    "\n"
   ]
  },
  {
   "cell_type": "code",
   "execution_count": 2,
   "id": "d13a40a1",
   "metadata": {},
   "outputs": [
    {
     "name": "stdout",
     "output_type": "stream",
     "text": [
      "a1: -0.5 | b1: 0\n",
      "a2: -0.5 | b2: 0\n",
      "Serie Rp: 2000\n"
     ]
    }
   ],
   "source": [
    "from pywdf.core.wdf import Resistor, SeriesAdaptor\n",
    "\n",
    "# Crear dos resistores\n",
    "R1 = Resistor(1000)  # 1k Ohm\n",
    "R2 = Resistor(1000)  # 1k Ohm\n",
    "\n",
    "# Conectarlos con adaptador serie\n",
    "S = SeriesAdaptor(R1, R2)\n",
    "\n",
    "# Simular ondas incidentes\n",
    "S.accept_incident_wave(1.0)\n",
    "S.propagate_reflected_wave()\n",
    "\n",
    "# Mostrar resultados\n",
    "print(\"a1:\", R1.a, \"| b1:\", R1.b)\n",
    "print(\"a2:\", R2.a, \"| b2:\", R2.b)\n",
    "print(\"Serie Rp:\", S.Rp)\n"
   ]
  },
  {
   "cell_type": "markdown",
   "id": "1ec1e9c0",
   "metadata": {},
   "source": [
    "### Fórmulas del adaptador paralelo\n",
    "\n",
    "Dado dos elementos con conductancias \\( G_1 = 1/R_1 \\), \\( G_2 = 1/R_2 \\):\n",
    "\n",
    "- **Conductancia total**:\n",
    "\n",
    "$$\n",
    "G = G_1 + G_2, \\quad R_p = \\frac{1}{G}\n",
    "$$\n",
    "\n",
    "- **Coeficiente**:\n",
    "\n",
    "$$\n",
    "\\beta = \\frac{G_1}{G_1 + G_2}\n",
    "$$\n",
    "\n",
    "- **Ondas reflejadas**:\n",
    "\n",
    "Se calculan a partir de la diferencia de \\( b \\)'s (según el principio dual al adaptador serie).\n",
    "\n",
    "La clase en `pywdf` que implementa esto es `ParallelAdaptor`.\n",
    "\n"
   ]
  },
  {
   "cell_type": "code",
   "execution_count": 3,
   "id": "03f84165",
   "metadata": {},
   "outputs": [
    {
     "name": "stdout",
     "output_type": "stream",
     "text": [
      "a1: 1.0 | b1: 0\n",
      "a2: 1.0 | b2: 0\n",
      "Paralelo Rp: 500.0\n"
     ]
    }
   ],
   "source": [
    "from pywdf.core.wdf import ParallelAdaptor\n",
    "\n",
    "# Crear dos resistores\n",
    "R1 = Resistor(1000)\n",
    "R2 = Resistor(1000)\n",
    "\n",
    "# Conectarlos con adaptador paralelo\n",
    "P = ParallelAdaptor(R1, R2)\n",
    "\n",
    "# Simular ondas\n",
    "P.accept_incident_wave(1.0)\n",
    "P.propagate_reflected_wave()\n",
    "\n",
    "# Mostrar resultados\n",
    "print(\"a1:\", R1.a, \"| b1:\", R1.b)\n",
    "print(\"a2:\", R2.a, \"| b2:\", R2.b)\n",
    "print(\"Paralelo Rp:\", P.Rp)\n"
   ]
  },
  {
   "cell_type": "markdown",
   "id": "03ab9fba",
   "metadata": {},
   "source": [
    "Podemos verificar que para valores positivos de \\( R_1, R_2 \\), el sistema es pasivo:\n",
    "- No genera energía.\n",
    "- La potencia reflejada siempre es menor o igual a la incidente:\n",
    "$$\n",
    "P = a^2 - b^2 \\geq 0\n",
    "$$\n"
   ]
  },
  {
   "cell_type": "code",
   "execution_count": 4,
   "id": "4d453e08",
   "metadata": {},
   "outputs": [
    {
     "name": "stdout",
     "output_type": "stream",
     "text": [
      "Potencia neta (a^2 - b^2): 1.0\n"
     ]
    }
   ],
   "source": [
    "import numpy as np\n",
    "\n",
    "a_wave = 1.0\n",
    "P.accept_incident_wave(a_wave)\n",
    "b_wave = P.propagate_reflected_wave()\n",
    "\n",
    "P_total = a_wave**2 - b_wave**2\n",
    "print(\"Potencia neta (a^2 - b^2):\", P_total)\n"
   ]
  },
  {
   "cell_type": "markdown",
   "id": "b171b8c8",
   "metadata": {},
   "source": [
    "### ¿Qué pasa si conectamos más de 2 elementos?\n",
    "\n",
    "Para adaptadores de 3 o más elementos, se usan estructuras llamadas `RTypeAdaptor`, que calculan las relaciones de ondas usando una matriz de dispersión \\( \\mathbf{S} \\).\n",
    "\n",
    "Esto lo veremos en detalle en el notebook 06, cuando construyamos árboles de conexión complejos.\n",
    "\n",
    "Por ahora, sabemos que:\n",
    "\n",
    "- `RTypeAdaptor` permite conexiones arbitrarias\n",
    "- `pywdf` tiene clases como `RootRTypeAdaptor` para manejar el nodo raíz\n",
    "\n"
   ]
  }
 ],
 "metadata": {
  "kernelspec": {
   "display_name": "wdf-prototypes",
   "language": "python",
   "name": "python3"
  },
  "language_info": {
   "codemirror_mode": {
    "name": "ipython",
    "version": 3
   },
   "file_extension": ".py",
   "mimetype": "text/x-python",
   "name": "python",
   "nbconvert_exporter": "python",
   "pygments_lexer": "ipython3",
   "version": "3.11.11"
  }
 },
 "nbformat": 4,
 "nbformat_minor": 5
}
