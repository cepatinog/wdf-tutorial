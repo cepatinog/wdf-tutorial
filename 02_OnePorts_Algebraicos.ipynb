{
 "cells": [
  {
   "cell_type": "code",
   "execution_count": 9,
   "id": "4352ee43",
   "metadata": {},
   "outputs": [
    {
     "name": "stdout",
     "output_type": "stream",
     "text": [
      "Resistencia de puerto: 1000\n",
      "Conductancia: 0.001\n",
      "Onda incidente a = 1.0, Onda reflejada b = 0\n"
     ]
    }
   ],
   "source": [
    "# 📘 Notebook 02: One-Ports Algebraicos – Fundamentos prácticos de WDF\n",
    "\n",
    "# 🧠 Objetivo del notebook\n",
    "# Comprender los componentes básicos de un solo puerto (one-port) con comportamiento algebraico:\n",
    "# Resistor, Fuente de voltaje ideal, Fuente resistiva, Cortocircuito, Circuito abierto, Interruptor\n",
    "\n",
    "# Basado en §1.2 de la tesis de Kurt Werner\n",
    "\n",
    "# -------------------------------------------------------------\n",
    "# 📘 SECCIÓN 1 – Resistor\n",
    "# -------------------------------------------------------------\n",
    "\n",
    "\"\"\"\n",
    "Un resistor ideal de valor R tiene una relación lineal entre v e i:\n",
    "    v = R * i\n",
    "\n",
    "En variables de onda:\n",
    "    b = 0   (si R = R_puerto)\n",
    "\n",
    "Es decir: **onda reflejada es cero** si está perfectamente adaptado.\n",
    "Esto es el caso más simple y fundamental de WDF.\n",
    "\"\"\"\n",
    "\n",
    "from pywdf.core.wdf import Resistor\n",
    "\n",
    "# Crear un resistor de 1kΩ\n",
    "R = Resistor(1000)\n",
    "\n",
    "# Ver su resistencia de puerto y ganancia\n",
    "print(\"Resistencia de puerto:\", R.Rp)\n",
    "print(\"Conductancia:\", R.G)\n",
    "\n",
    "# En este caso, b siempre es 0 (adaptado perfectamente)\n",
    "a = 1.0\n",
    "R.accept_incident_wave(a)\n",
    "b = R.propagate_reflected_wave()\n",
    "print(f\"Onda incidente a = {a}, Onda reflejada b = {b}\")"
   ]
  },
  {
   "cell_type": "code",
   "execution_count": 4,
   "id": "889a2f17",
   "metadata": {},
   "outputs": [
    {
     "name": "stdout",
     "output_type": "stream",
     "text": [
      "ShortCircuit – a = 1.0, b = -1.0 (esperado -1.0)\n"
     ]
    }
   ],
   "source": [
    "# -------------------------------------------------------------\n",
    "# 📘 SECCIÓN 2 – Cortocircuito (ShortCircuit)\n",
    "# -------------------------------------------------------------\n",
    "\n",
    "\"\"\"\n",
    "Un cortocircuito ideal es un componente con v = 0 para cualquier corriente.\n",
    "En WDF:\n",
    "    b = -a\n",
    "\n",
    "Toda la energía incidente se refleja con cambio de signo.\n",
    "\"\"\"\n",
    "\n",
    "from pywdf.core.wdf import ShortCircuit\n",
    "\n",
    "S = ShortCircuit()\n",
    "a = 1.0\n",
    "S.accept_incident_wave(a)\n",
    "b = S.propagate_reflected_wave()\n",
    "print(f\"ShortCircuit – a = {a}, b = {b} (esperado -1.0)\")\n"
   ]
  },
  {
   "cell_type": "code",
   "execution_count": 5,
   "id": "68cb0b35",
   "metadata": {},
   "outputs": [
    {
     "name": "stdout",
     "output_type": "stream",
     "text": [
      "OpenCircuit – a = 1.0, b = 1.0 (esperado +1.0)\n"
     ]
    }
   ],
   "source": [
    "# -------------------------------------------------------------\n",
    "# 📘 SECCIÓN 3 – Circuito abierto (OpenCircuit)\n",
    "# -------------------------------------------------------------\n",
    "\n",
    "\"\"\"\n",
    "Un circuito abierto ideal implica i = 0 para cualquier voltaje.\n",
    "En WDF:\n",
    "    b = +a\n",
    "\n",
    "La onda se refleja sin cambio de signo.\n",
    "\"\"\"\n",
    "\n",
    "from pywdf.core.wdf import OpenCircuit\n",
    "\n",
    "O = OpenCircuit()\n",
    "a = 1.0\n",
    "O.accept_incident_wave(a)\n",
    "b = O.propagate_reflected_wave()\n",
    "print(f\"OpenCircuit – a = {a}, b = {b} (esperado +1.0)\")"
   ]
  },
  {
   "cell_type": "code",
   "execution_count": 6,
   "id": "34d16656",
   "metadata": {},
   "outputs": [
    {
     "name": "stdout",
     "output_type": "stream",
     "text": [
      "IdealVoltageSource – Vs = 1.5, a = 0.5, b = 2.5 (esperado 2.5)\n"
     ]
    }
   ],
   "source": [
    "# -------------------------------------------------------------\n",
    "# 📘 SECCIÓN 4 – Fuente de voltaje ideal\n",
    "# -------------------------------------------------------------\n",
    "\n",
    "\"\"\"\n",
    "Una fuente ideal tiene voltaje constante Vs independientemente de la corriente.\n",
    "La onda reflejada es:\n",
    "    b = -a + 2 * Vs\n",
    "\n",
    "\"\"\"\n",
    "\n",
    "from pywdf.core.wdf import IdealVoltageSource\n",
    "\n",
    "Vs_val = 1.5\n",
    "\n",
    "source = IdealVoltageSource(Resistor(1000))\n",
    "source.set_voltage(Vs_val)\n",
    "a = 0.5\n",
    "source.accept_incident_wave(a)\n",
    "b = source.propagate_reflected_wave()\n",
    "print(f\"IdealVoltageSource – Vs = {Vs_val}, a = {a}, b = {b} (esperado {2*Vs_val - a})\")"
   ]
  },
  {
   "cell_type": "code",
   "execution_count": 7,
   "id": "8bbb4b6f",
   "metadata": {},
   "outputs": [
    {
     "name": "stdout",
     "output_type": "stream",
     "text": [
      "ResistiveVoltageSource – b = 1.0 (esperado 1.0)\n"
     ]
    }
   ],
   "source": [
    "# -------------------------------------------------------------\n",
    "# 📘 SECCIÓN 5 – Fuente de voltaje resistiva\n",
    "# -------------------------------------------------------------\n",
    "\n",
    "\"\"\"\n",
    "Una fuente de voltaje realista incluye una resistencia en serie.\n",
    "En WDF se implementa como `ResistiveVoltageSource`.\n",
    "Aquí la onda reflejada es simplemente el valor de Vs.\n",
    "\"\"\"\n",
    "\n",
    "from pywdf.core.wdf import ResistiveVoltageSource\n",
    "\n",
    "real_source = ResistiveVoltageSource(1000)\n",
    "real_source.set_voltage(1.0)\n",
    "b = real_source.propagate_reflected_wave()\n",
    "print(f\"ResistiveVoltageSource – b = {b} (esperado 1.0)\")"
   ]
  },
  {
   "cell_type": "code",
   "execution_count": 8,
   "id": "29a3ae7d",
   "metadata": {},
   "outputs": [
    {
     "name": "stdout",
     "output_type": "stream",
     "text": [
      "Switch cerrado – a = 1.0, b = -1.0 (esperado -1.0)\n",
      "Switch abierto – a = 1.0, b = 1.0 (esperado +1.0)\n"
     ]
    }
   ],
   "source": [
    "# -------------------------------------------------------------\n",
    "# 📘 SECCIÓN 6 – Interruptor ideal (Switch)\n",
    "# -------------------------------------------------------------\n",
    "\n",
    "\"\"\"\n",
    "El interruptor alterna entre comportamiento de circuito abierto y cortocircuito:\n",
    "- Si cerrado: b = -a\n",
    "- Si abierto: b = +a\n",
    "\n",
    "Esto permite modelar comportamientos no lineales o tiempo variante.\n",
    "\"\"\"\n",
    "\n",
    "from pywdf.core.wdf import Switch, Resistor\n",
    "\n",
    "dummy = Resistor(1000)\n",
    "sw = Switch(dummy)\n",
    "\n",
    "sw.set_closed(True)\n",
    "a = 1.0\n",
    "sw.accept_incident_wave(a)\n",
    "b = sw.propagate_reflected_wave()\n",
    "print(f\"Switch cerrado – a = {a}, b = {b} (esperado -1.0)\")\n",
    "\n",
    "sw.set_closed(False)\n",
    "sw.accept_incident_wave(a)\n",
    "b = sw.propagate_reflected_wave()\n",
    "print(f\"Switch abierto – a = {a}, b = {b} (esperado +1.0)\")\n",
    "\n",
    "# -------------------------------------------------------------\n",
    "# 🧩 Próxima sección: componentes reactivos – Capacitor e Inductor\n",
    "# Esto será tratado en el Notebook 03: OnePorts_Reactivos.ipynb\n",
    "# Basado en §1.3 de la tesis de Kurt Werner\n"
   ]
  }
 ],
 "metadata": {
  "kernelspec": {
   "display_name": "wdf-prototypes",
   "language": "python",
   "name": "python3"
  },
  "language_info": {
   "codemirror_mode": {
    "name": "ipython",
    "version": 3
   },
   "file_extension": ".py",
   "mimetype": "text/x-python",
   "name": "python",
   "nbconvert_exporter": "python",
   "pygments_lexer": "ipython3",
   "version": "3.11.11"
  }
 },
 "nbformat": 4,
 "nbformat_minor": 5
}
